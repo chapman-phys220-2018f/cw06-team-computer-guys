{
 "cells": [
  {
   "cell_type": "markdown",
   "metadata": {
    "collapsed": false
   },
   "source": [
    "### Critique\n",
    "\n",
    "Trevor Kling\n",
    "\n",
    "The code, while functional, could use a few changes to become more robust and readable.  Firstly, variable names could be selected a bit more carefully to avoid confusion.  \"prime\" as a boolean and \"primes\" as a list of integers is a bit confusing; renaming the boolean to \"is_prime\" or an equivalent would make it more clear what kind of value is contained by the boolean.  The other main advise would be to add more checks for user inputs.  Currently, the program does not check user input to see if it will actually function in the context of the program.  For a user who does not know these bounds, it would be helpful to catch these errors and display custom error messages.  However, that is not to say the code is not functional or efficient.  The code implements the eratosthenes sieve, and finds a list of prime numbers.  Additionally, the code could use a few comments to explain what exactly each method does."
   ]
  },
  {
   "cell_type": "markdown",
   "metadata": {
    "collapsed": false
   },
   "source": [
    "### Critique\n",
    "\n",
    "Paul Hatem\n",
    "\n"
   ]
  }
 ],
 "metadata": {
  "kernelspec": {
   "display_name": "Python 3 (Anaconda 5)",
   "language": "python",
   "name": "anaconda5"
  }
 },
 "nbformat": 4,
 "nbformat_minor": 0
}